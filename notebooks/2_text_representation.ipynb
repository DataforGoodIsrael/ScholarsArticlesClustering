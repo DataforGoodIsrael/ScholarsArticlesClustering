{
 "cells": [
  {
   "cell_type": "markdown",
   "metadata": {},
   "source": [
    "### What do we know about vaccines and therapeutics? What has been published concerning research and development and evaluation efforts of vaccines and therapeutics?\n",
    "\n",
    "### Prevention for healthcare workers:\n",
    "* Efforts to develop prophylaxis clinical studies and prioritize in healthcare workers\n",
    "\n",
    "### Therapeutics:\n",
    "* Effectiveness of drugs being developed and tried to treat COVID-19 patients.\n",
    "* Clinical and bench trials to investigate less common viral inhibitors against COVID-19 such as naproxen, clarithromycin, and minocyclinethat that may exert effects on viral replication.\n",
    "* Capabilities to discover a therapeutic (not vaccine) for the disease, and clinical effectiveness studies to discover therapeutics, to include antiviral agents.\n",
    "\n",
    "### Vaccine\n",
    "* Methods evaluating potential complication of Antibody-Dependent Enhancement (ADE) in vaccine recipients.\n",
    "* Exploration of use of best animal models and their predictive value for a human vaccine.\n",
    "* Efforts targeted at a universal coronavirus vaccine.\n",
    "* Approaches to evaluate risk for enhanced disease after vaccination\n",
    "* Assays to evaluate vaccine immune response and process development for vaccines, alongside suitable animal models [in conjunction with therapeutics]\n",
    "\n",
    "### Distribution:\n",
    "* Alternative models to aid decision makers in determining how to prioritize and distribute scarce, newly proven therapeutics as production ramps up. This could include identifying approaches for expanding production capacity to ensure equitable and timely distribution to populations in need.\n"
   ]
  },
  {
   "cell_type": "markdown",
   "metadata": {},
   "source": [
    "### Imports and Constants"
   ]
  },
  {
   "cell_type": "code",
   "execution_count": 2,
   "metadata": {},
   "outputs": [],
   "source": [
    "import re\n",
    "import pandas as pd\n",
    "import numpy as np\n",
    "from datetime import datetime\n",
    "from gensim.test.utils import datapath\n",
    "from gensim.models import KeyedVectors\n",
    "from sklearn.decomposition import PCA\n",
    "import matplotlib.pyplot as plt\n",
    "from gensim.models import Word2Vec\n",
    "from transformers import AutoTokenizer, AutoModel, AutoModelWithLMHead\n",
    "import torch"
   ]
  },
  {
   "cell_type": "code",
   "execution_count": 1,
   "metadata": {},
   "outputs": [],
   "source": [
    "PREV = \"Efforts to develop prophylaxis clinical studies and prioritize in healthcare workers\"\n",
    "\n",
    "THERAPEUTIC_1 =  \"Effectiveness of drugs being developed and tried to treat COVID-19 patients.\"\n",
    "THERAPEUTIC_2 =  \"Clinical and bench trials to investigate less common viral inhibitors against COVID-19 such as naproxen, clarithromycin, and minocyclinethat that may exert effects on viral replication.\"\n",
    "THERAPEUTIC_3 = \"Capabilities to discover a therapeutic for the disease, and clinical effectiveness studies to discover therapeutics, to include antiviral agents.\"\n",
    "\n",
    "VACCINE_1 = \"Methods evaluating potential complication of Antibody-Dependent Enhancement (ADE) in vaccine recipients.\"\n",
    "VACCINE_2 =  \"Exploration of use of best animal models and their predictive value for a human vaccine.\"\n",
    "VACCINE_3 =  \"Efforts targeted at a universal coronavirus vaccine.\"\n",
    "VACCINE_4 =  \"Approaches to evaluate risk for enhanced disease after vaccination\"\n",
    "VACCINE_5 =  \"Assays to evaluate vaccine immune response and process development for vaccines, alongside suitable animal models [in conjunction with therapeutics]\"\n",
    "\n",
    "DISTRIBUTION = \"Alternative models to aid decision makers in determining how to prioritize and distribute scarce, newly proven therapeutics as production ramps up. This could include identifying approaches for expanding production capacity to ensure equitable and timely distribution to populations in need.\"\n",
    "\n",
    "QUESTIONS = [PREV, THERAPEUTIC_1, THERAPEUTIC_2, THERAPEUTIC_3, \n",
    "             VACCINE_1, VACCINE_2, VACCINE_3, VACCINE_4, VACCINE_5, DISTRIBUTION]"
   ]
  },
  {
   "cell_type": "code",
   "execution_count": 5,
   "metadata": {},
   "outputs": [],
   "source": [
    "FILE_NAME = '../data/metadata_with_ner_19_04.csv'\n",
    "\n",
    "PUBMED_W2V_30_PATH = './models/PubMed-shuffle-win-2.bin'"
   ]
  },
  {
   "cell_type": "markdown",
   "metadata": {},
   "source": [
    "### Read Dataset"
   ]
  },
  {
   "cell_type": "code",
   "execution_count": 6,
   "metadata": {},
   "outputs": [],
   "source": [
    "df = pd.read_csv(FILE_NAME)"
   ]
  },
  {
   "cell_type": "code",
   "execution_count": 7,
   "metadata": {},
   "outputs": [
    {
     "data": {
      "text/html": [
       "<div>\n",
       "<style scoped>\n",
       "    .dataframe tbody tr th:only-of-type {\n",
       "        vertical-align: middle;\n",
       "    }\n",
       "\n",
       "    .dataframe tbody tr th {\n",
       "        vertical-align: top;\n",
       "    }\n",
       "\n",
       "    .dataframe thead th {\n",
       "        text-align: right;\n",
       "    }\n",
       "</style>\n",
       "<table border=\"1\" class=\"dataframe\">\n",
       "  <thead>\n",
       "    <tr style=\"text-align: right;\">\n",
       "      <th></th>\n",
       "      <th>Unnamed: 0</th>\n",
       "      <th>cord_uid</th>\n",
       "      <th>title</th>\n",
       "      <th>license</th>\n",
       "      <th>abstract</th>\n",
       "      <th>publish_time</th>\n",
       "      <th>authors</th>\n",
       "      <th>journal</th>\n",
       "      <th>url</th>\n",
       "      <th>disease_on_title</th>\n",
       "      <th>chemicals_on_title</th>\n",
       "    </tr>\n",
       "  </thead>\n",
       "  <tbody>\n",
       "    <tr>\n",
       "      <th>0</th>\n",
       "      <td>0</td>\n",
       "      <td>xqhn0vbp</td>\n",
       "      <td>Airborne rhinovirus detection and effect of ul...</td>\n",
       "      <td>no-cc</td>\n",
       "      <td>BACKGROUND: Rhinovirus, the most common cause ...</td>\n",
       "      <td>2003-01-13</td>\n",
       "      <td>Myatt, Theodore A; Johnston, Sebastian L; Rudn...</td>\n",
       "      <td>BMC Public Health</td>\n",
       "      <td>https://www.ncbi.nlm.nih.gov/pmc/articles/PMC1...</td>\n",
       "      <td>[]</td>\n",
       "      <td>[]</td>\n",
       "    </tr>\n",
       "    <tr>\n",
       "      <th>1</th>\n",
       "      <td>1</td>\n",
       "      <td>gi6uaa83</td>\n",
       "      <td>Discovering human history from stomach bacteria</td>\n",
       "      <td>no-cc</td>\n",
       "      <td>Recent analyses of human pathogens have reveal...</td>\n",
       "      <td>2003-04-28</td>\n",
       "      <td>Disotell, Todd R</td>\n",
       "      <td>Genome Biol</td>\n",
       "      <td>https://www.ncbi.nlm.nih.gov/pmc/articles/PMC1...</td>\n",
       "      <td>[]</td>\n",
       "      <td>[]</td>\n",
       "    </tr>\n",
       "    <tr>\n",
       "      <th>2</th>\n",
       "      <td>2</td>\n",
       "      <td>le0ogx1s</td>\n",
       "      <td>A new recruit for the army of the men of death</td>\n",
       "      <td>no-cc</td>\n",
       "      <td>The army of the men of death, in John Bunyan's...</td>\n",
       "      <td>2003-06-27</td>\n",
       "      <td>Petsko, Gregory A</td>\n",
       "      <td>Genome Biol</td>\n",
       "      <td>https://www.ncbi.nlm.nih.gov/pmc/articles/PMC1...</td>\n",
       "      <td>['death']</td>\n",
       "      <td>[]</td>\n",
       "    </tr>\n",
       "    <tr>\n",
       "      <th>3</th>\n",
       "      <td>3</td>\n",
       "      <td>fy4w7xz8</td>\n",
       "      <td>Association of HLA class I with severe acute r...</td>\n",
       "      <td>no-cc</td>\n",
       "      <td>BACKGROUND: The human leukocyte antigen (HLA) ...</td>\n",
       "      <td>2003-09-12</td>\n",
       "      <td>Lin, Marie; Tseng, Hsiang-Kuang; Trejaut, Jean...</td>\n",
       "      <td>BMC Med Genet</td>\n",
       "      <td>https://www.ncbi.nlm.nih.gov/pmc/articles/PMC2...</td>\n",
       "      <td>['acute respiratory syndrome coronavirus infec...</td>\n",
       "      <td>[]</td>\n",
       "    </tr>\n",
       "    <tr>\n",
       "      <th>4</th>\n",
       "      <td>4</td>\n",
       "      <td>0qaoam29</td>\n",
       "      <td>A double epidemic model for the SARS propagation</td>\n",
       "      <td>no-cc</td>\n",
       "      <td>BACKGROUND: An epidemic of a Severe Acute Resp...</td>\n",
       "      <td>2003-09-10</td>\n",
       "      <td>Ng, Tuen Wai; Turinici, Gabriel; Danchin, Antoine</td>\n",
       "      <td>BMC Infect Dis</td>\n",
       "      <td>https://www.ncbi.nlm.nih.gov/pmc/articles/PMC2...</td>\n",
       "      <td>['SARS']</td>\n",
       "      <td>[]</td>\n",
       "    </tr>\n",
       "  </tbody>\n",
       "</table>\n",
       "</div>"
      ],
      "text/plain": [
       "   Unnamed: 0  cord_uid                                              title  \\\n",
       "0           0  xqhn0vbp  Airborne rhinovirus detection and effect of ul...   \n",
       "1           1  gi6uaa83    Discovering human history from stomach bacteria   \n",
       "2           2  le0ogx1s     A new recruit for the army of the men of death   \n",
       "3           3  fy4w7xz8  Association of HLA class I with severe acute r...   \n",
       "4           4  0qaoam29   A double epidemic model for the SARS propagation   \n",
       "\n",
       "  license                                           abstract publish_time  \\\n",
       "0   no-cc  BACKGROUND: Rhinovirus, the most common cause ...   2003-01-13   \n",
       "1   no-cc  Recent analyses of human pathogens have reveal...   2003-04-28   \n",
       "2   no-cc  The army of the men of death, in John Bunyan's...   2003-06-27   \n",
       "3   no-cc  BACKGROUND: The human leukocyte antigen (HLA) ...   2003-09-12   \n",
       "4   no-cc  BACKGROUND: An epidemic of a Severe Acute Resp...   2003-09-10   \n",
       "\n",
       "                                             authors            journal  \\\n",
       "0  Myatt, Theodore A; Johnston, Sebastian L; Rudn...  BMC Public Health   \n",
       "1                                   Disotell, Todd R        Genome Biol   \n",
       "2                                  Petsko, Gregory A        Genome Biol   \n",
       "3  Lin, Marie; Tseng, Hsiang-Kuang; Trejaut, Jean...      BMC Med Genet   \n",
       "4  Ng, Tuen Wai; Turinici, Gabriel; Danchin, Antoine     BMC Infect Dis   \n",
       "\n",
       "                                                 url  \\\n",
       "0  https://www.ncbi.nlm.nih.gov/pmc/articles/PMC1...   \n",
       "1  https://www.ncbi.nlm.nih.gov/pmc/articles/PMC1...   \n",
       "2  https://www.ncbi.nlm.nih.gov/pmc/articles/PMC1...   \n",
       "3  https://www.ncbi.nlm.nih.gov/pmc/articles/PMC2...   \n",
       "4  https://www.ncbi.nlm.nih.gov/pmc/articles/PMC2...   \n",
       "\n",
       "                                    disease_on_title chemicals_on_title  \n",
       "0                                                 []                 []  \n",
       "1                                                 []                 []  \n",
       "2                                          ['death']                 []  \n",
       "3  ['acute respiratory syndrome coronavirus infec...                 []  \n",
       "4                                           ['SARS']                 []  "
      ]
     },
     "execution_count": 7,
     "metadata": {},
     "output_type": "execute_result"
    }
   ],
   "source": [
    "df.head(5)"
   ]
  },
  {
   "cell_type": "markdown",
   "metadata": {},
   "source": [
    "# Articles representations Comparaison"
   ]
  },
  {
   "cell_type": "markdown",
   "metadata": {},
   "source": [
    "### Load Pretrained W2V model"
   ]
  },
  {
   "cell_type": "markdown",
   "metadata": {},
   "source": [
    "https://www.sciencedirect.com/science/article/pii/S2590177X19300563#fn5\n",
    "\n",
    "https://github.com/cambridgeltl/BioNLP-2016\n",
    "    \n",
    "http://bioasq.org/news/bioasq-releases-continuous-space-word-vectors-obtained-applying-word2vec-pubmed-abstracts"
   ]
  },
  {
   "cell_type": "code",
   "execution_count": 7,
   "metadata": {},
   "outputs": [],
   "source": [
    "# cleaning made to train the model\n",
    "def clean_text_for_w2v(text):\n",
    "    bioclean = lambda t: re.sub('[.,?;*!%^&_+():-\\[\\]{}]', '', t.replace('\"', '').replace('/', '').replace('\\\\', '').replace(\"'\",'').strip().lower()).split()\n",
    "    return bioclean(text)\n",
    "\n",
    "def transform_vectors_mean(corpus, model, size):\n",
    "    result = []\n",
    "\n",
    "    for sent in corpus:\n",
    "        s = []\n",
    "        for w in sent:\n",
    "            try:\n",
    "                s.append(model[w])\n",
    "            except KeyError:\n",
    "                s.append(np.zeros(size))\n",
    "\n",
    "        result.append(np.mean(s, axis=0))\n",
    "\n",
    "    return result"
   ]
  },
  {
   "cell_type": "code",
   "execution_count": 8,
   "metadata": {},
   "outputs": [],
   "source": [
    "pubmed_w2v_model = KeyedVectors.load_word2vec_format(PUBMED_W2V_30_PATH, binary=True)"
   ]
  },
  {
   "cell_type": "code",
   "execution_count": 9,
   "metadata": {},
   "outputs": [
    {
     "data": {
      "text/plain": [
       "[('vaccines', 0.9011305570602417),\n",
       " ('vaccination', 0.8086512088775635),\n",
       " ('live-attenuated', 0.78384929895401),\n",
       " ('4CMenB', 0.7667485475540161),\n",
       " ('Vaccine', 0.7533633708953857),\n",
       " ('oil-adjuvanted', 0.7527676224708557),\n",
       " ('virosomal', 0.7453387975692749),\n",
       " ('adjuvanted', 0.7411016225814819),\n",
       " ('DTPa', 0.7387354969978333),\n",
       " ('TOPV', 0.7385035753250122)]"
      ]
     },
     "execution_count": 9,
     "metadata": {},
     "output_type": "execute_result"
    }
   ],
   "source": [
    "pubmed_w2v_model.most_similar('vaccine')"
   ]
  },
  {
   "cell_type": "code",
   "execution_count": 10,
   "metadata": {},
   "outputs": [
    {
     "data": {
      "text/plain": [
       "[('therapies', 0.7996033430099487),\n",
       " ('immunotherapeutics', 0.7703390121459961),\n",
       " ('neurotherapeutics', 0.7518537044525146),\n",
       " ('immunotherapies', 0.7502345442771912),\n",
       " ('nanomedicines', 0.74412602186203),\n",
       " ('biotherapies', 0.7211918830871582),\n",
       " ('nanotherapeutics', 0.7205879092216492),\n",
       " ('nanomedicine', 0.7186068296432495),\n",
       " ('theragnostics', 0.7103043794631958),\n",
       " ('immune-based', 0.708768367767334)]"
      ]
     },
     "execution_count": 10,
     "metadata": {},
     "output_type": "execute_result"
    }
   ],
   "source": [
    "pubmed_w2v_model.most_similar('therapeutics')"
   ]
  },
  {
   "cell_type": "markdown",
   "metadata": {},
   "source": [
    "### Vizualisation"
   ]
  },
  {
   "cell_type": "code",
   "execution_count": 9,
   "metadata": {},
   "outputs": [],
   "source": [
    "COLORS = ['blue', 'red', 'green', 'orange']\n",
    "TARGET_NAMES = ['preventions', 'therapeutics', 'vaccine', 'distribution']\n",
    "\n",
    "MASK_P = [True, False, False, False,False, False,False,False,False,False]\n",
    "MASK_T = [False, True, True, True,False, False,False,False,False,False]\n",
    "MASK_V = [False, False, False, False,True, True,True,True,True,False]\n",
    "MASK_D = [False, False, False, False,False, False,False,False,False,True]"
   ]
  },
  {
   "cell_type": "code",
   "execution_count": 12,
   "metadata": {},
   "outputs": [],
   "source": [
    "questions_cleaned = [clean_text_for_w2v(t) for t in QUESTIONS]\n",
    "questions_w2v = transform_vectors_mean(questions_cleaned, pubmed_w2v_model, 200)\n",
    "\n",
    "pca = PCA(n_components=2)\n",
    "principalComponents_q = pca.fit_transform(questions_w2v)"
   ]
  },
  {
   "cell_type": "code",
   "execution_count": 13,
   "metadata": {},
   "outputs": [
    {
     "data": {
      "image/png": "[encoded data removed]",
      "text/plain": [
       "<Figure size 576x576 with 1 Axes>"
      ]
     },
     "metadata": {},
     "output_type": "display_data"
    }
   ],
   "source": [
    "plt.figure(figsize=(8, 8))\n",
    "for color, i, target_name in zip(COLORS, [MASK_P, MASK_T, MASK_V, MASK_D], TARGET_NAMES):\n",
    "    plt.scatter(principalComponents_q[i, 0], principalComponents_q[i, 1],\n",
    "                color=color, lw=2, label=target_name)\n",
    "\n",
    "plt.legend(loc=\"best\", shadow=False, scatterpoints=1)\n",
    "\n",
    "plt.show()"
   ]
  },
  {
   "cell_type": "markdown",
   "metadata": {},
   "source": [
    "### ClinicalBERT"
   ]
  },
  {
   "cell_type": "markdown",
   "metadata": {},
   "source": [
    "https://towardsdatascience.com/illustrated-self-attention-2d627e33b20a\n",
    "\n",
    "https://www.aclweb.org/anthology/W19-1909/\n",
    "\n",
    "https://github.com/EmilyAlsentzer/clinicalBERT\n",
    "\n",
    "https://github.com/huggingface/transformers/issues/1950"
   ]
  },
  {
   "cell_type": "code",
   "execution_count": null,
   "metadata": {},
   "outputs": [],
   "source": [
    "def get_embeddings_bert(text, model):\n",
    "    input_ids = torch.tensor(tokenizer.encode(text, max_length=512)).unsqueeze(0)  # Batch size 1\n",
    "    # 512 max lenght for the model\n",
    "    outputs = model(input_ids)\n",
    "    last_hidden_states = outputs[0]  # The last hidden-state is the first element of the output tuple\n",
    "    sentence_embedding = torch.mean(last_hidden_states[0], dim=0)\n",
    "    \n",
    "    return sentence_embedding.tolist()"
   ]
  },
  {
   "cell_type": "code",
   "execution_count": 14,
   "metadata": {},
   "outputs": [],
   "source": [
    "tokenizer = AutoTokenizer.from_pretrained(\"emilyalsentzer/Bio_ClinicalBERT\")\n",
    "clinical_bert_model = AutoModel.from_pretrained(\"emilyalsentzer/Bio_ClinicalBERT\")"
   ]
  },
  {
   "cell_type": "code",
   "execution_count": 16,
   "metadata": {},
   "outputs": [],
   "source": [
    "questions_clinical_bert_emb = [get_embeddings_bert(q, clinical_bert_model) for q in QUESTIONS]"
   ]
  },
  {
   "cell_type": "code",
   "execution_count": 17,
   "metadata": {},
   "outputs": [],
   "source": [
    "pca = PCA(n_components=2)\n",
    "principalComponents_q = pca.fit_transform(questions_clinical_bert_emb)"
   ]
  },
  {
   "cell_type": "code",
   "execution_count": 18,
   "metadata": {},
   "outputs": [
    {
     "data": {
      "image/png": "[encoded data removed]",
      "text/plain": [
       "<Figure size 576x576 with 1 Axes>"
      ]
     },
     "metadata": {},
     "output_type": "display_data"
    }
   ],
   "source": [
    "plt.figure(figsize=(8, 8))\n",
    "for color, i, target_name in zip(COLORS, [MASK_P, MASK_T, MASK_V, MASK_D], TARGET_NAMES):\n",
    "    plt.scatter(principalComponents_q[i, 0], principalComponents_q[i, 1],\n",
    "                color=color, lw=2, label=target_name)\n",
    "\n",
    "plt.legend(loc=\"best\", shadow=False, scatterpoints=1)\n",
    "\n",
    "plt.show()"
   ]
  },
  {
   "cell_type": "markdown",
   "metadata": {},
   "source": [
    "### BioBERT"
   ]
  },
  {
   "cell_type": "markdown",
   "metadata": {},
   "source": [
    "https://github.com/dmis-lab/biobert"
   ]
  },
  {
   "cell_type": "code",
   "execution_count": 19,
   "metadata": {},
   "outputs": [],
   "source": [
    "tokenizer = AutoTokenizer.from_pretrained(\"monologg/biobert_v1.0_pubmed_pmc\")\n",
    "bio_bert = AutoModel.from_pretrained(\"monologg/biobert_v1.0_pubmed_pmc\")"
   ]
  },
  {
   "cell_type": "code",
   "execution_count": 20,
   "metadata": {},
   "outputs": [],
   "source": [
    "questions_bio_bert_emb = [get_embeddings_bert(q, bio_bert) for q in QUESTIONS]"
   ]
  },
  {
   "cell_type": "code",
   "execution_count": 21,
   "metadata": {},
   "outputs": [],
   "source": [
    "pca = PCA(n_components=2)\n",
    "principalComponents_q = pca.fit_transform(questions_bio_bert_emb)"
   ]
  },
  {
   "cell_type": "code",
   "execution_count": 22,
   "metadata": {},
   "outputs": [
    {
     "data": {
      "image/png": "[encoded data removed]",
      "text/plain": [
       "<Figure size 576x576 with 1 Axes>"
      ]
     },
     "metadata": {},
     "output_type": "display_data"
    }
   ],
   "source": [
    "plt.figure(figsize=(8, 8))\n",
    "for color, i, target_name in zip(COLORS, [MASK_P, MASK_T, MASK_V, MASK_D], TARGET_NAMES):\n",
    "    plt.scatter(principalComponents_q[i, 0], principalComponents_q[i, 1],\n",
    "                color=color, lw=2, label=target_name)\n",
    "\n",
    "plt.legend(loc=\"best\", shadow=False, scatterpoints=1)\n",
    "\n",
    "plt.show()"
   ]
  },
  {
   "cell_type": "markdown",
   "metadata": {},
   "source": [
    "### SciBert"
   ]
  },
  {
   "cell_type": "markdown",
   "metadata": {},
   "source": [
    "https://github.com/allenai/scibert"
   ]
  },
  {
   "cell_type": "code",
   "execution_count": 23,
   "metadata": {},
   "outputs": [],
   "source": [
    "tokenizer = AutoTokenizer.from_pretrained('allenai/scibert_scivocab_cased')\n",
    "sci_bert_model = AutoModel.from_pretrained('allenai/scibert_scivocab_cased')"
   ]
  },
  {
   "cell_type": "code",
   "execution_count": 24,
   "metadata": {},
   "outputs": [],
   "source": [
    "questions_sci_bert_emb = [get_embeddings_bert(q, sci_bert_model) for q in QUESTIONS]"
   ]
  },
  {
   "cell_type": "code",
   "execution_count": 25,
   "metadata": {},
   "outputs": [],
   "source": [
    "pca = PCA(n_components=2)\n",
    "principalComponents_q = pca.fit_transform(questions_sci_bert_emb)"
   ]
  },
  {
   "cell_type": "code",
   "execution_count": 26,
   "metadata": {},
   "outputs": [
    {
     "data": {
      "image/png": "[encoded data removed]",
      "text/plain": [
       "<Figure size 576x576 with 1 Axes>"
      ]
     },
     "metadata": {},
     "output_type": "display_data"
    }
   ],
   "source": [
    "plt.figure(figsize=(8, 8))\n",
    "for color, i, target_name in zip(COLORS, [MASK_P, MASK_T, MASK_V, MASK_D], TARGET_NAMES):\n",
    "    plt.scatter(principalComponents_q[i, 0], principalComponents_q[i, 1],\n",
    "                color=color, lw=2, label=target_name)\n",
    "\n",
    "plt.legend(loc=\"best\", shadow=False, scatterpoints=1)\n",
    "\n",
    "plt.show()"
   ]
  },
  {
   "cell_type": "markdown",
   "metadata": {},
   "source": [
    "### Bio RoBERTa"
   ]
  },
  {
   "cell_type": "markdown",
   "metadata": {},
   "source": [
    "https://arxiv.org/pdf/1907.11692.pdf\n",
    "\n",
    "https://huggingface.co/allenai/biomed_roberta_base"
   ]
  },
  {
   "cell_type": "code",
   "execution_count": 27,
   "metadata": {},
   "outputs": [],
   "source": [
    "tokenizer = AutoTokenizer.from_pretrained(\"allenai/biomed_roberta_base\")\n",
    "biomed_roberta_model = AutoModel.from_pretrained(\"allenai/biomed_roberta_base\")"
   ]
  },
  {
   "cell_type": "code",
   "execution_count": 28,
   "metadata": {},
   "outputs": [],
   "source": [
    "questions_biomed_roberta_emb = [get_embeddings_bert(q, biomed_roberta_model) for q in QUESTIONS]"
   ]
  },
  {
   "cell_type": "code",
   "execution_count": 29,
   "metadata": {},
   "outputs": [],
   "source": [
    "pca = PCA(n_components=2)\n",
    "principalComponents_q = pca.fit_transform(questions_biomed_roberta_emb)"
   ]
  },
  {
   "cell_type": "code",
   "execution_count": 30,
   "metadata": {},
   "outputs": [
    {
     "data": {
      "image/png": "[encoded data removed]",
      "text/plain": [
       "<Figure size 576x576 with 1 Axes>"
      ]
     },
     "metadata": {},
     "output_type": "display_data"
    }
   ],
   "source": [
    "plt.figure(figsize=(8, 8))\n",
    "for color, i, target_name in zip(COLORS, [MASK_P, MASK_T, MASK_V, MASK_D], TARGET_NAMES):\n",
    "    plt.scatter(principalComponents_q[i, 0], principalComponents_q[i, 1],\n",
    "                color=color, lw=2, label=target_name)\n",
    "\n",
    "plt.legend(loc=\"best\", shadow=False, scatterpoints=1)\n",
    "\n",
    "plt.show()"
   ]
  },
  {
   "cell_type": "markdown",
   "metadata": {},
   "source": [
    "### GPT-2\n",
    "\n",
    "https://huggingface.co/mrm8488/GPT-2-finetuned-covid-bio-medrxiv"
   ]
  },
  {
   "cell_type": "code",
   "execution_count": 13,
   "metadata": {},
   "outputs": [],
   "source": [
    "tokenizer = AutoTokenizer.from_pretrained(\"mrm8488/GPT-2-finetuned-covid-bio-medrxiv\")\n",
    "gpt_2 = AutoModelWithLMHead.from_pretrained(\"mrm8488/GPT-2-finetuned-covid-bio-medrxiv\")"
   ]
  },
  {
   "cell_type": "code",
   "execution_count": 14,
   "metadata": {},
   "outputs": [],
   "source": [
    "questions_biomed_roberta_emb = [get_embeddings_bert(q, gpt_2) for q in QUESTIONS]"
   ]
  },
  {
   "cell_type": "code",
   "execution_count": 15,
   "metadata": {},
   "outputs": [],
   "source": [
    "pca = PCA(n_components=2)\n",
    "principalComponents_q = pca.fit_transform(questions_biomed_roberta_emb)"
   ]
  },
  {
   "cell_type": "code",
   "execution_count": 16,
   "metadata": {},
   "outputs": [
    {
     "data": {
      "image/png": "[encoded data removed]",
      "text/plain": [
       "<Figure size 576x576 with 1 Axes>"
      ]
     },
     "metadata": {},
     "output_type": "display_data"
    }
   ],
   "source": [
    "plt.figure(figsize=(8, 8))\n",
    "for color, i, target_name in zip(COLORS, [MASK_P, MASK_T, MASK_V, MASK_D], TARGET_NAMES):\n",
    "    plt.scatter(principalComponents_q[i, 0], principalComponents_q[i, 1],\n",
    "                color=color, lw=2, label=target_name)\n",
    "\n",
    "plt.legend(loc=\"best\", shadow=False, scatterpoints=1)\n",
    "\n",
    "plt.show()"
   ]
  },
  {
   "cell_type": "markdown",
   "metadata": {},
   "source": [
    "Biomed RoBERTa or GPT-2 seems to be the best representation (hint)"
   ]
  },
  {
   "cell_type": "markdown",
   "metadata": {},
   "source": [
    "### Try to create a W2V with just our articles (abstract)"
   ]
  },
  {
   "cell_type": "markdown",
   "metadata": {},
   "source": [
    "https://machinelearningmastery.com/develop-word-embeddings-python-gensim/"
   ]
  },
  {
   "cell_type": "code",
   "execution_count": 31,
   "metadata": {},
   "outputs": [
    {
     "name": "stdout",
     "output_type": "stream",
     "text": [
      "Word2Vec(vocab=44649, size=200, alpha=0.025)\n",
      "Word2Vec(vocab=44649, size=200, alpha=0.025)\n"
     ]
    }
   ],
   "source": [
    "# define training data\n",
    "sentences = [clean_text_for_w2v(text) for text in df['abstract']]\n",
    "titles = [clean_text_for_w2v(text) for text in df['title']]\n",
    "training = sentences + titles\n",
    "# train model\n",
    "model = Word2Vec(training, min_count=5, size=200)\n",
    "print(model)\n",
    "# summarize vocabulary\n",
    "words = list(model.wv.vocab)\n",
    "# save model\n",
    "model.save('./models/w2v_200_covid_articles_model.bin')\n",
    "# load model\n",
    "w2v_covid_article_model = Word2Vec.load('./models/w2v_200_covid_articles_model.bin')\n",
    "print(w2v_covid_article_model)"
   ]
  },
  {
   "cell_type": "markdown",
   "metadata": {},
   "source": [
    "### Have a small look of the word space created"
   ]
  },
  {
   "cell_type": "code",
   "execution_count": 32,
   "metadata": {},
   "outputs": [
    {
     "name": "stderr",
     "output_type": "stream",
     "text": [
      "/Users/samuel/anaconda/envs/venv_zencity_ai/lib/python3.6/site-packages/ipykernel/__main__.py:1: DeprecationWarning: Call to deprecated `__getitem__` (Method will be removed in 4.0.0, use self.wv.__getitem__() instead).\n",
      "  if __name__ == '__main__':\n"
     ]
    },
    {
     "data": {
      "image/png": "[encoded data removed]",
      "text/plain": [
       "<Figure size 432x288 with 1 Axes>"
      ]
     },
     "metadata": {},
     "output_type": "display_data"
    }
   ],
   "source": [
    "X = model[model.wv.vocab][50:70]\n",
    "\n",
    "pca = PCA(n_components=2)\n",
    "result = pca.fit_transform(X)\n",
    "plt.scatter(result[:, 0], result[:, 1])\n",
    "words = list(w2v_covid_article_model.wv.vocab)[50:70]\n",
    "for i, word in enumerate(words):\n",
    "    plt.annotate(word, xy=(result[i, 0], result[i, 1]))\n",
    "plt.show()"
   ]
  },
  {
   "cell_type": "code",
   "execution_count": 33,
   "metadata": {},
   "outputs": [
    {
     "name": "stderr",
     "output_type": "stream",
     "text": [
      "/Users/samuel/anaconda/envs/venv_zencity_ai/lib/python3.6/site-packages/ipykernel/__main__.py:1: DeprecationWarning: Call to deprecated `most_similar` (Method will be removed in 4.0.0, use self.wv.most_similar() instead).\n",
      "  if __name__ == '__main__':\n"
     ]
    },
    {
     "data": {
      "text/plain": [
       "[('vaccines', 0.8538632392883301),\n",
       " ('vaccination', 0.6924810409545898),\n",
       " ('immunization', 0.6043241620063782),\n",
       " ('mva', 0.5368626117706299),\n",
       " ('vaccinations', 0.5367950797080994),\n",
       " ('adjuvant', 0.5261101722717285),\n",
       " ('immunogenicity', 0.5229893922805786),\n",
       " ('adjuvants', 0.5081044435501099),\n",
       " ('immunogens', 0.5048612356185913),\n",
       " ('boost', 0.5024968981742859)]"
      ]
     },
     "execution_count": 33,
     "metadata": {},
     "output_type": "execute_result"
    }
   ],
   "source": [
    "w2v_covid_article_model.most_similar('vaccine')"
   ]
  },
  {
   "cell_type": "code",
   "execution_count": 34,
   "metadata": {},
   "outputs": [
    {
     "name": "stderr",
     "output_type": "stream",
     "text": [
      "/Users/samuel/anaconda/envs/venv_zencity_ai/lib/python3.6/site-packages/ipykernel/__main__.py:1: DeprecationWarning: Call to deprecated `most_similar` (Method will be removed in 4.0.0, use self.wv.most_similar() instead).\n",
      "  if __name__ == '__main__':\n"
     ]
    },
    {
     "data": {
      "text/plain": [
       "[('therapies', 0.8468272686004639),\n",
       " ('antivirals', 0.8403037190437317),\n",
       " ('drugs', 0.7933241128921509),\n",
       " ('immunotherapies', 0.6977213025093079),\n",
       " ('biologics', 0.6958422064781189),\n",
       " ('broad-spectrum', 0.6793942451477051),\n",
       " ('countermeasures', 0.6670724153518677),\n",
       " ('prophylactics', 0.6585804224014282),\n",
       " ('therapeutic', 0.6584309339523315),\n",
       " ('options', 0.6437404155731201)]"
      ]
     },
     "execution_count": 34,
     "metadata": {},
     "output_type": "execute_result"
    }
   ],
   "source": [
    "w2v_covid_article_model.most_similar('therapeutics')"
   ]
  },
  {
   "cell_type": "markdown",
   "metadata": {},
   "source": [
    "### Vizualition questions with our model"
   ]
  },
  {
   "cell_type": "code",
   "execution_count": 35,
   "metadata": {},
   "outputs": [
    {
     "name": "stderr",
     "output_type": "stream",
     "text": [
      "/Users/samuel/anaconda/envs/venv_zencity_ai/lib/python3.6/site-packages/ipykernel/__main__.py:15: DeprecationWarning: Call to deprecated `__getitem__` (Method will be removed in 4.0.0, use self.wv.__getitem__() instead).\n"
     ]
    }
   ],
   "source": [
    "questions_cleaned = [clean_text_for_w2v(t) for t in QUESTIONS]\n",
    "questions_w2v = transform_vectors_mean(questions_cleaned, w2v_covid_article_model, 200)\n",
    "\n",
    "pca = PCA(n_components=2)\n",
    "principalComponents_q = pca.fit_transform(questions_w2v)"
   ]
  },
  {
   "cell_type": "code",
   "execution_count": 36,
   "metadata": {},
   "outputs": [
    {
     "data": {
      "image/png": "[encoded data removed]",
      "text/plain": [
       "<Figure size 576x576 with 1 Axes>"
      ]
     },
     "metadata": {},
     "output_type": "display_data"
    }
   ],
   "source": [
    "plt.figure(figsize=(8, 8))\n",
    "for color, i, target_name in zip(COLORS, [MASK_P, MASK_T, MASK_V, MASK_D], TARGET_NAMES):\n",
    "    plt.scatter(principalComponents_q[i, 0], principalComponents_q[i, 1],\n",
    "                color=color, lw=2, label=target_name)\n",
    "\n",
    "plt.legend(loc=\"best\", shadow=False, scatterpoints=1)\n",
    "plt.show()"
   ]
  },
  {
   "cell_type": "markdown",
   "metadata": {},
   "source": [
    "### Conclusion\n",
    "\n",
    "We wanted to have a really good seperation between the questions themselves and the group of questions, each one should be distinct from the other to be able to identify the articles that are linked with them.\n",
    "\n",
    "It seems that the BioRoberta model makes the best represention of our text data\n",
    "However it is really slow and we can keep also our own w2v model for the next step to compare."
   ]
  }
 ],
 "metadata": {
  "kernelspec": {
   "display_name": "Zencity_env",
   "language": "python",
   "name": "zencity_env"
  },
  "language_info": {
   "codemirror_mode": {
    "name": "ipython",
    "version": 3
   },
   "file_extension": ".py",
   "mimetype": "text/x-python",
   "name": "python",
   "nbconvert_exporter": "python",
   "pygments_lexer": "ipython3",
   "version": "3.6.7"
  }
 },
 "nbformat": 4,
 "nbformat_minor": 4
}
