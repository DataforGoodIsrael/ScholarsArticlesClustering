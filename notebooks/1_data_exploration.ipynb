{
 "cells": [
  {
   "cell_type": "markdown",
   "metadata": {},
   "source": [
    "## Imports & Constants"
   ]
  },
  {
   "cell_type": "code",
   "execution_count": 1,
   "metadata": {},
   "outputs": [],
   "source": [
    "import re\n",
    "import random\n",
    "from datetime import datetime\n",
    "import pandas as pd\n",
    "import numpy as np\n",
    "import spacy\n",
    "import scispacy\n",
    "import en_core_sci_sm\n",
    "import en_ner_bc5cdr_md\n",
    "from collections import Counter\n",
    "from wordcloud import WordCloud\n",
    "import matplotlib.pyplot as plt"
   ]
  },
  {
   "cell_type": "code",
   "execution_count": 2,
   "metadata": {},
   "outputs": [],
   "source": [
    "FILE_NAME = '../data/metadata.csv'\n",
    "SELECTED_COLUMNS = ['cord_uid', 'title', 'license', 'abstract', 'publish_time', 'authors', 'journal', 'url']"
   ]
  },
  {
   "cell_type": "markdown",
   "metadata": {},
   "source": [
    "## Read Dataset"
   ]
  },
  {
   "cell_type": "code",
   "execution_count": 3,
   "metadata": {},
   "outputs": [],
   "source": [
    "df = pd.read_csv(FILE_NAME)\n",
    "df = df[SELECTED_COLUMNS]"
   ]
  },
  {
   "cell_type": "markdown",
   "metadata": {},
   "source": [
    "## Size DataFrame"
   ]
  },
  {
   "cell_type": "code",
   "execution_count": 4,
   "metadata": {},
   "outputs": [
    {
     "data": {
      "text/plain": [
       "52398"
      ]
     },
     "execution_count": 4,
     "metadata": {},
     "output_type": "execute_result"
    }
   ],
   "source": [
    "len(df)"
   ]
  },
  {
   "cell_type": "markdown",
   "metadata": {},
   "source": [
    "## DataFrame glimp"
   ]
  },
  {
   "cell_type": "code",
   "execution_count": 5,
   "metadata": {},
   "outputs": [
    {
     "data": {
      "text/html": [
       "<div>\n",
       "<style scoped>\n",
       "    .dataframe tbody tr th:only-of-type {\n",
       "        vertical-align: middle;\n",
       "    }\n",
       "\n",
       "    .dataframe tbody tr th {\n",
       "        vertical-align: top;\n",
       "    }\n",
       "\n",
       "    .dataframe thead th {\n",
       "        text-align: right;\n",
       "    }\n",
       "</style>\n",
       "<table border=\"1\" class=\"dataframe\">\n",
       "  <thead>\n",
       "    <tr style=\"text-align: right;\">\n",
       "      <th></th>\n",
       "      <th>cord_uid</th>\n",
       "      <th>title</th>\n",
       "      <th>license</th>\n",
       "      <th>abstract</th>\n",
       "      <th>publish_time</th>\n",
       "      <th>authors</th>\n",
       "      <th>journal</th>\n",
       "      <th>url</th>\n",
       "    </tr>\n",
       "  </thead>\n",
       "  <tbody>\n",
       "    <tr>\n",
       "      <th>0</th>\n",
       "      <td>xqhn0vbp</td>\n",
       "      <td>Airborne rhinovirus detection and effect of ul...</td>\n",
       "      <td>no-cc</td>\n",
       "      <td>BACKGROUND: Rhinovirus, the most common cause ...</td>\n",
       "      <td>2003-01-13</td>\n",
       "      <td>Myatt, Theodore A; Johnston, Sebastian L; Rudn...</td>\n",
       "      <td>BMC Public Health</td>\n",
       "      <td>https://www.ncbi.nlm.nih.gov/pmc/articles/PMC1...</td>\n",
       "    </tr>\n",
       "    <tr>\n",
       "      <th>1</th>\n",
       "      <td>gi6uaa83</td>\n",
       "      <td>Discovering human history from stomach bacteria</td>\n",
       "      <td>no-cc</td>\n",
       "      <td>Recent analyses of human pathogens have reveal...</td>\n",
       "      <td>2003-04-28</td>\n",
       "      <td>Disotell, Todd R</td>\n",
       "      <td>Genome Biol</td>\n",
       "      <td>https://www.ncbi.nlm.nih.gov/pmc/articles/PMC1...</td>\n",
       "    </tr>\n",
       "    <tr>\n",
       "      <th>2</th>\n",
       "      <td>le0ogx1s</td>\n",
       "      <td>A new recruit for the army of the men of death</td>\n",
       "      <td>no-cc</td>\n",
       "      <td>The army of the men of death, in John Bunyan's...</td>\n",
       "      <td>2003-06-27</td>\n",
       "      <td>Petsko, Gregory A</td>\n",
       "      <td>Genome Biol</td>\n",
       "      <td>https://www.ncbi.nlm.nih.gov/pmc/articles/PMC1...</td>\n",
       "    </tr>\n",
       "    <tr>\n",
       "      <th>3</th>\n",
       "      <td>fy4w7xz8</td>\n",
       "      <td>Association of HLA class I with severe acute r...</td>\n",
       "      <td>no-cc</td>\n",
       "      <td>BACKGROUND: The human leukocyte antigen (HLA) ...</td>\n",
       "      <td>2003-09-12</td>\n",
       "      <td>Lin, Marie; Tseng, Hsiang-Kuang; Trejaut, Jean...</td>\n",
       "      <td>BMC Med Genet</td>\n",
       "      <td>https://www.ncbi.nlm.nih.gov/pmc/articles/PMC2...</td>\n",
       "    </tr>\n",
       "    <tr>\n",
       "      <th>4</th>\n",
       "      <td>0qaoam29</td>\n",
       "      <td>A double epidemic model for the SARS propagation</td>\n",
       "      <td>no-cc</td>\n",
       "      <td>BACKGROUND: An epidemic of a Severe Acute Resp...</td>\n",
       "      <td>2003-09-10</td>\n",
       "      <td>Ng, Tuen Wai; Turinici, Gabriel; Danchin, Antoine</td>\n",
       "      <td>BMC Infect Dis</td>\n",
       "      <td>https://www.ncbi.nlm.nih.gov/pmc/articles/PMC2...</td>\n",
       "    </tr>\n",
       "  </tbody>\n",
       "</table>\n",
       "</div>"
      ],
      "text/plain": [
       "   cord_uid                                              title license  \\\n",
       "0  xqhn0vbp  Airborne rhinovirus detection and effect of ul...   no-cc   \n",
       "1  gi6uaa83    Discovering human history from stomach bacteria   no-cc   \n",
       "2  le0ogx1s     A new recruit for the army of the men of death   no-cc   \n",
       "3  fy4w7xz8  Association of HLA class I with severe acute r...   no-cc   \n",
       "4  0qaoam29   A double epidemic model for the SARS propagation   no-cc   \n",
       "\n",
       "                                            abstract publish_time  \\\n",
       "0  BACKGROUND: Rhinovirus, the most common cause ...   2003-01-13   \n",
       "1  Recent analyses of human pathogens have reveal...   2003-04-28   \n",
       "2  The army of the men of death, in John Bunyan's...   2003-06-27   \n",
       "3  BACKGROUND: The human leukocyte antigen (HLA) ...   2003-09-12   \n",
       "4  BACKGROUND: An epidemic of a Severe Acute Resp...   2003-09-10   \n",
       "\n",
       "                                             authors            journal  \\\n",
       "0  Myatt, Theodore A; Johnston, Sebastian L; Rudn...  BMC Public Health   \n",
       "1                                   Disotell, Todd R        Genome Biol   \n",
       "2                                  Petsko, Gregory A        Genome Biol   \n",
       "3  Lin, Marie; Tseng, Hsiang-Kuang; Trejaut, Jean...      BMC Med Genet   \n",
       "4  Ng, Tuen Wai; Turinici, Gabriel; Danchin, Antoine     BMC Infect Dis   \n",
       "\n",
       "                                                 url  \n",
       "0  https://www.ncbi.nlm.nih.gov/pmc/articles/PMC1...  \n",
       "1  https://www.ncbi.nlm.nih.gov/pmc/articles/PMC1...  \n",
       "2  https://www.ncbi.nlm.nih.gov/pmc/articles/PMC1...  \n",
       "3  https://www.ncbi.nlm.nih.gov/pmc/articles/PMC2...  \n",
       "4  https://www.ncbi.nlm.nih.gov/pmc/articles/PMC2...  "
      ]
     },
     "execution_count": 5,
     "metadata": {},
     "output_type": "execute_result"
    }
   ],
   "source": [
    "df.head()"
   ]
  },
  {
   "cell_type": "code",
   "execution_count": 6,
   "metadata": {},
   "outputs": [
    {
     "data": {
      "text/html": [
       "<div>\n",
       "<style scoped>\n",
       "    .dataframe tbody tr th:only-of-type {\n",
       "        vertical-align: middle;\n",
       "    }\n",
       "\n",
       "    .dataframe tbody tr th {\n",
       "        vertical-align: top;\n",
       "    }\n",
       "\n",
       "    .dataframe thead th {\n",
       "        text-align: right;\n",
       "    }\n",
       "</style>\n",
       "<table border=\"1\" class=\"dataframe\">\n",
       "  <thead>\n",
       "    <tr style=\"text-align: right;\">\n",
       "      <th></th>\n",
       "      <th>cord_uid</th>\n",
       "      <th>title</th>\n",
       "      <th>license</th>\n",
       "      <th>abstract</th>\n",
       "      <th>publish_time</th>\n",
       "      <th>authors</th>\n",
       "      <th>journal</th>\n",
       "      <th>url</th>\n",
       "    </tr>\n",
       "  </thead>\n",
       "  <tbody>\n",
       "    <tr>\n",
       "      <th>count</th>\n",
       "      <td>52398</td>\n",
       "      <td>52240</td>\n",
       "      <td>52398</td>\n",
       "      <td>43168</td>\n",
       "      <td>52390</td>\n",
       "      <td>50119</td>\n",
       "      <td>47156</td>\n",
       "      <td>52096</td>\n",
       "    </tr>\n",
       "    <tr>\n",
       "      <th>unique</th>\n",
       "      <td>52365</td>\n",
       "      <td>51413</td>\n",
       "      <td>13</td>\n",
       "      <td>42762</td>\n",
       "      <td>6511</td>\n",
       "      <td>47804</td>\n",
       "      <td>6320</td>\n",
       "      <td>52092</td>\n",
       "    </tr>\n",
       "    <tr>\n",
       "      <th>top</th>\n",
       "      <td>adygntbe</td>\n",
       "      <td>Infectious disease surveillance update</td>\n",
       "      <td>els-covid</td>\n",
       "      <td>Unknown</td>\n",
       "      <td>2020</td>\n",
       "      <td>Parry, Jane</td>\n",
       "      <td>Journal of Virology</td>\n",
       "      <td>http://ajph.aphapublications.org/doi/pdf/10.21...</td>\n",
       "    </tr>\n",
       "    <tr>\n",
       "      <th>freq</th>\n",
       "      <td>2</td>\n",
       "      <td>26</td>\n",
       "      <td>19995</td>\n",
       "      <td>338</td>\n",
       "      <td>582</td>\n",
       "      <td>32</td>\n",
       "      <td>1750</td>\n",
       "      <td>2</td>\n",
       "    </tr>\n",
       "  </tbody>\n",
       "</table>\n",
       "</div>"
      ],
      "text/plain": [
       "        cord_uid                                   title    license abstract  \\\n",
       "count      52398                                   52240      52398    43168   \n",
       "unique     52365                                   51413         13    42762   \n",
       "top     adygntbe  Infectious disease surveillance update  els-covid  Unknown   \n",
       "freq           2                                      26      19995      338   \n",
       "\n",
       "       publish_time      authors              journal  \\\n",
       "count         52390        50119                47156   \n",
       "unique         6511        47804                 6320   \n",
       "top            2020  Parry, Jane  Journal of Virology   \n",
       "freq            582           32                 1750   \n",
       "\n",
       "                                                      url  \n",
       "count                                               52096  \n",
       "unique                                              52092  \n",
       "top     http://ajph.aphapublications.org/doi/pdf/10.21...  \n",
       "freq                                                    2  "
      ]
     },
     "execution_count": 6,
     "metadata": {},
     "output_type": "execute_result"
    }
   ],
   "source": [
    "df.describe(include='all')"
   ]
  },
  {
   "cell_type": "markdown",
   "metadata": {},
   "source": [
    "## Remove Duplicate by cord_uid"
   ]
  },
  {
   "cell_type": "code",
   "execution_count": 7,
   "metadata": {},
   "outputs": [],
   "source": [
    "df = df.drop_duplicates(subset='cord_uid', keep=\"last\").reset_index(drop=True)"
   ]
  },
  {
   "cell_type": "markdown",
   "metadata": {},
   "source": [
    "## Missing value counts by column"
   ]
  },
  {
   "cell_type": "code",
   "execution_count": 8,
   "metadata": {},
   "outputs": [
    {
     "data": {
      "text/plain": [
       "cord_uid           0\n",
       "title            158\n",
       "license            0\n",
       "abstract        9218\n",
       "publish_time       8\n",
       "authors         2279\n",
       "journal         5239\n",
       "url              302\n",
       "dtype: int64"
      ]
     },
     "execution_count": 8,
     "metadata": {},
     "output_type": "execute_result"
    }
   ],
   "source": [
    "len(df) - df.count()"
   ]
  },
  {
   "cell_type": "markdown",
   "metadata": {},
   "source": [
    "We will work with title and abstract, let's remove when we don't have one of it"
   ]
  },
  {
   "cell_type": "code",
   "execution_count": 9,
   "metadata": {},
   "outputs": [],
   "source": [
    "df = df.dropna(subset=['abstract', 'title']).reset_index(drop=True)"
   ]
  },
  {
   "cell_type": "markdown",
   "metadata": {},
   "source": [
    "## Let's try to extract some keys from the text with a focus on cures"
   ]
  },
  {
   "cell_type": "markdown",
   "metadata": {},
   "source": [
    "https://medium.com/@maheshdmahi/scispacy-for-bio-medical-named-entity-recognition-ner-63ed548f1df0\n",
    "\n",
    "https://arxiv.org/pdf/1811.05468.pdf\n",
    "\n",
    "https://allenai.github.io/scispacy/"
   ]
  },
  {
   "cell_type": "markdown",
   "metadata": {},
   "source": [
    "## Name entity recognision"
   ]
  },
  {
   "cell_type": "code",
   "execution_count": 10,
   "metadata": {},
   "outputs": [],
   "source": [
    "text = df['abstract'][20003] # example"
   ]
  },
  {
   "cell_type": "code",
   "execution_count": 11,
   "metadata": {},
   "outputs": [
    {
     "data": {
      "text/plain": [
       "'Diagnostic virus isolation is still frequently used, particularly from respiratory tract secretions. Testing positive virus cultures for all possible viruses is time-consuming, and unexpected or unknown viruses may escape detection. Therefore, a novel random PCR approach was developed that allows sequence-independent amplification of viral nucleic acids from virus isolation-positive cultures. Selectivity for viral sequences is obtained by preferential isolation of nucleic acids that are particle associated and resistant to nucleases. Using primers with a degenerated 3′ end, the isolated nucleic acids are amplified and the randomly amplified PCR products are cloned and sequenced. As proof of the concept, the PAN-PCR approach was applied to supernatants of coxsackievirus B3 and murine adenovirus type 1-infected cells. Enterovirus and adenovirus sequences were obtained, demonstrating that the random PCR approach allows detection of RNA and DNA viruses. As a first application of this PAN-PCR approach, we characterized a virus isolate from mouth-washing material of a patient with chronic fatigue syndrome and high antibody titers to coxsackievirus B2. The virus isolate had tested negative for enteroviruses and respiratory viruses (influenza viruses A and B, parainfluenza virus types 1 to 3, respiratory syncytial virus, and adenovirus) by immunofluorescence and PCR. Particle-associated, nuclease-resistant RNA and DNA were prepared from the supernatant of infected cells. The DNA and the reverse-transcribed RNA were randomly amplified, and PCR products were cloned and sequenced. Of 25 sequences obtained from the DNA preparation, 24 contained herpes simplex virus type 1 (HSV-1) sequences from 14 different loci spread over the HSV-1 genome. This result was confirmed by using a standard diagnostic HSV-PCR, demonstrating that the PAN-PCR correctly identified the virus isolate. Although the identification of HSV-1 in mouth-washing material is not surprising in retrospect, it clearly demonstrates the applicability of the PAN-PCR approach. This method should be particularly useful for characterizing virus isolates that have tested negative for all expected viruses and for identifying unknown viruses.'"
      ]
     },
     "execution_count": 11,
     "metadata": {},
     "output_type": "execute_result"
    }
   ],
   "source": [
    "text"
   ]
  },
  {
   "cell_type": "code",
   "execution_count": 12,
   "metadata": {},
   "outputs": [],
   "source": [
    "nlp1 = spacy.load(\"en_core_sci_sm\") "
   ]
  },
  {
   "cell_type": "code",
   "execution_count": 13,
   "metadata": {},
   "outputs": [
    {
     "data": {
      "text/plain": [
       "{'B': 'ENTITY',\n",
       " 'DNA': 'ENTITY',\n",
       " 'DNA preparation': 'ENTITY',\n",
       " 'DNA viruses': 'ENTITY',\n",
       " 'Diagnostic virus': 'ENTITY',\n",
       " 'Enterovirus': 'ENTITY',\n",
       " 'HSV-1': 'ENTITY',\n",
       " 'HSV-1 genome': 'ENTITY',\n",
       " 'HSV-PCR': 'ENTITY',\n",
       " 'PAN-PCR': 'ENTITY',\n",
       " 'PCR': 'ENTITY',\n",
       " 'PCR products': 'ENTITY',\n",
       " 'Particle-associated': 'ENTITY',\n",
       " 'RNA': 'ENTITY',\n",
       " 'Selectivity': 'ENTITY',\n",
       " 'Testing': 'ENTITY',\n",
       " 'adenovirus': 'ENTITY',\n",
       " 'adenovirus sequences': 'ENTITY',\n",
       " 'amplified': 'ENTITY',\n",
       " 'applicability': 'ENTITY',\n",
       " 'associated and': 'ENTITY',\n",
       " 'chronic fatigue syndrome': 'ENTITY',\n",
       " 'cloned': 'ENTITY',\n",
       " 'concept': 'ENTITY',\n",
       " 'coxsackievirus B2': 'ENTITY',\n",
       " 'coxsackievirus B3': 'ENTITY',\n",
       " 'degenerated': 'ENTITY',\n",
       " 'detection': 'ENTITY',\n",
       " 'diagnostic': 'ENTITY',\n",
       " 'enteroviruses': 'ENTITY',\n",
       " 'herpes simplex virus type 1': 'ENTITY',\n",
       " 'high antibody': 'ENTITY',\n",
       " 'identification': 'ENTITY',\n",
       " 'immunofluorescence': 'ENTITY',\n",
       " 'infected cells': 'ENTITY',\n",
       " 'influenza viruses': 'ENTITY',\n",
       " 'isolate': 'ENTITY',\n",
       " 'isolated': 'ENTITY',\n",
       " 'isolates': 'ENTITY',\n",
       " 'isolation': 'ENTITY',\n",
       " 'isolation-positive cultures': 'ENTITY',\n",
       " 'loci': 'ENTITY',\n",
       " 'method': 'ENTITY',\n",
       " 'mouth-washing material': 'ENTITY',\n",
       " 'murine adenovirus type 1-infected cells': 'ENTITY',\n",
       " 'negative': 'ENTITY',\n",
       " 'nuclease-resistant RNA': 'ENTITY',\n",
       " 'nucleases': 'ENTITY',\n",
       " 'nucleic acids': 'ENTITY',\n",
       " 'parainfluenza virus': 'ENTITY',\n",
       " 'particle': 'ENTITY',\n",
       " 'patient': 'ENTITY',\n",
       " 'preferential isolation': 'ENTITY',\n",
       " 'random': 'ENTITY',\n",
       " 'randomly amplified PCR products': 'ENTITY',\n",
       " 'resistant': 'ENTITY',\n",
       " 'respiratory syncytial virus': 'ENTITY',\n",
       " 'respiratory tract secretions': 'ENTITY',\n",
       " 'respiratory viruses': 'ENTITY',\n",
       " 'result': 'ENTITY',\n",
       " 'retrospect': 'ENTITY',\n",
       " 'reverse-transcribed RNA': 'ENTITY',\n",
       " 'sequence-independent amplification': 'ENTITY',\n",
       " 'sequenced': 'ENTITY',\n",
       " 'sequences': 'ENTITY',\n",
       " 'supernatant': 'ENTITY',\n",
       " 'supernatants': 'ENTITY',\n",
       " 'tested': 'ENTITY',\n",
       " 'time-consuming': 'ENTITY',\n",
       " 'titers': 'ENTITY',\n",
       " 'unexpected': 'ENTITY',\n",
       " 'viral nucleic acids': 'ENTITY',\n",
       " 'viral sequences': 'ENTITY',\n",
       " 'virus': 'ENTITY',\n",
       " 'viruses': 'ENTITY'}"
      ]
     },
     "execution_count": 13,
     "metadata": {},
     "output_type": "execute_result"
    }
   ],
   "source": [
    "entities = list(nlp1(text).ents)\n",
    "entities_type = [e.label_ for e in entities]\n",
    "entities_name = [e.text for e in entities]\n",
    "\n",
    "dict(zip(entities_name, entities_type))"
   ]
  },
  {
   "cell_type": "markdown",
   "metadata": {},
   "source": [
    "### Let's focus on just Disease and Chemical"
   ]
  },
  {
   "cell_type": "code",
   "execution_count": 14,
   "metadata": {},
   "outputs": [],
   "source": [
    "nlp2 = spacy.load(\"en_ner_bc5cdr_md\")"
   ]
  },
  {
   "cell_type": "code",
   "execution_count": 15,
   "metadata": {},
   "outputs": [],
   "source": [
    "entities = list(nlp2(text).ents)\n",
    "entities_type = [e.label_ for e in entities]\n",
    "entities_name = [e.text for e in entities]"
   ]
  },
  {
   "cell_type": "code",
   "execution_count": 16,
   "metadata": {},
   "outputs": [],
   "source": [
    "d = dict(zip(entities_name, entities_type))"
   ]
  },
  {
   "cell_type": "code",
   "execution_count": 17,
   "metadata": {},
   "outputs": [
    {
     "data": {
      "text/plain": [
       "{'Enterovirus': 'DISEASE',\n",
       " 'coxsackievirus B2': 'CHEMICAL',\n",
       " 'coxsackievirus B3': 'CHEMICAL',\n",
       " 'fatigue syndrome': 'DISEASE',\n",
       " 'herpes simplex': 'DISEASE',\n",
       " 'nucleic acids': 'CHEMICAL',\n",
       " 'respiratory tract secretions': 'DISEASE'}"
      ]
     },
     "execution_count": 17,
     "metadata": {},
     "output_type": "execute_result"
    }
   ],
   "source": [
    "d"
   ]
  },
  {
   "cell_type": "markdown",
   "metadata": {},
   "source": [
    "### Apply NER on Titles to extract some info"
   ]
  },
  {
   "cell_type": "markdown",
   "metadata": {},
   "source": [
    "Really long run (~30min) when we apply it on 'abstract' and not on 'title'"
   ]
  },
  {
   "cell_type": "code",
   "execution_count": 18,
   "metadata": {},
   "outputs": [],
   "source": [
    "def remove_special_chars(text, remove_digits=False):\n",
    "    pattern = r'[^a-zA-Z0-9\\s]' if not remove_digits else r'[^a-zA-Z\\s]'\n",
    "    return re.sub(pattern, '', text)"
   ]
  },
  {
   "cell_type": "code",
   "execution_count": 20,
   "metadata": {},
   "outputs": [],
   "source": [
    "entities_list = [list(nlp2(remove_special_chars(e)).ents) for e in df['abstract']]\n",
    "entities_type_list = [[e.label_ for e in entities]for entities in entities_list ]\n",
    "entities_name_list = [[e.text for e in entities] for entities in entities_list]"
   ]
  },
  {
   "cell_type": "code",
   "execution_count": 21,
   "metadata": {},
   "outputs": [
    {
     "data": {
      "text/plain": [
       "42998"
      ]
     },
     "execution_count": 21,
     "metadata": {},
     "output_type": "execute_result"
    }
   ],
   "source": [
    "len(entities_name_list)"
   ]
  },
  {
   "cell_type": "code",
   "execution_count": 22,
   "metadata": {},
   "outputs": [],
   "source": [
    "DISEASES_ERROR = ['sarscoronavirus', 'sarscov2', 'sarscov2 infection', 'covid19', 'ah1n1', 'sars']"
   ]
  },
  {
   "cell_type": "code",
   "execution_count": 23,
   "metadata": {},
   "outputs": [],
   "source": [
    "temp = [dict(zip(entities_type_list[i], entities_name_list[i])) for i in range(len(entities_name_list))]\n",
    "\n",
    "diseases = [list(value for key, value in t.items() if key == 'DISEASE' or value.lower() in DISEASES_ERROR) \n",
    "            for t in temp]\n",
    "chemicals = [list(value for key, value in t.items() if key == 'CHEMICAL' and value.lower() not in DISEASES_ERROR) \n",
    "             for t in temp]"
   ]
  },
  {
   "cell_type": "code",
   "execution_count": 24,
   "metadata": {},
   "outputs": [],
   "source": [
    "df['disease_on_abstract'] = diseases\n",
    "df['chemicals_on_abstract'] = chemicals"
   ]
  },
  {
   "cell_type": "code",
   "execution_count": 25,
   "metadata": {},
   "outputs": [],
   "source": [
    "df.to_csv('../data/metadata_with_ner_19_04.csv')"
   ]
  },
  {
   "cell_type": "markdown",
   "metadata": {},
   "source": [
    "## Most commun Chemicals and Diseases"
   ]
  },
  {
   "cell_type": "code",
   "execution_count": 27,
   "metadata": {},
   "outputs": [
    {
     "data": {
      "text/plain": [
       "[('amino acid', 486),\n",
       " ('ifn', 363),\n",
       " ('nucleic acid', 355),\n",
       " ('nucleotide', 351),\n",
       " ('tgev', 219),\n",
       " ('amino acids', 213),\n",
       " ('merscov infection', 180),\n",
       " ('oxygen', 175),\n",
       " ('cap', 134),\n",
       " ('nucleic acids', 121),\n",
       " ('ha', 108),\n",
       " ('ribavirin', 94),\n",
       " ('balbc', 93),\n",
       " ('k', 90),\n",
       " ('np', 88),\n",
       " ('na', 85),\n",
       " ('cholesterol', 82),\n",
       " ('ncp', 80),\n",
       " ('merscov', 74),\n",
       " ('e2', 68),\n",
       " ('cc', 67),\n",
       " ('carbohydrate', 64),\n",
       " ('trypsin', 61),\n",
       " ('lactate', 56),\n",
       " ('corticosteroids', 55)]"
      ]
     },
     "execution_count": 27,
     "metadata": {},
     "output_type": "execute_result"
    }
   ],
   "source": [
    "chemical_flat_list = [item.lower() for sublist in df['chemicals_on_abstract'] for item in sublist]\n",
    "\n",
    "c = Counter(chemical_flat_list)\n",
    "c.most_common(25)"
   ]
  },
  {
   "cell_type": "code",
   "execution_count": 28,
   "metadata": {},
   "outputs": [
    {
     "data": {
      "image/png": "[encoded data removed]",
      "text/plain": [
       "<Figure size 432x288 with 1 Axes>"
      ]
     },
     "metadata": {},
     "output_type": "display_data"
    }
   ],
   "source": [
    "wordcloud = WordCloud(prefer_horizontal=1.0,\n",
    "                      width=800,\n",
    "                      height=300,\n",
    "                      max_font_size=200,\n",
    "                      max_words=25,\n",
    "                      colormap=\"copper\",\n",
    "                      background_color='white').generate_from_frequencies(c)\n",
    "plt.figure()\n",
    "plt.imshow(wordcloud, interpolation='bilinear')\n",
    "plt.axis(\"off\")\n",
    "plt.show()\n",
    "plt.close()"
   ]
  },
  {
   "cell_type": "code",
   "execution_count": 29,
   "metadata": {},
   "outputs": [
    {
     "data": {
      "text/plain": [
       "[('infection', 2831),\n",
       " ('sars', 1221),\n",
       " ('covid19', 1055),\n",
       " ('infections', 750),\n",
       " ('infectious diseases', 716),\n",
       " ('respiratory syndrome', 665),\n",
       " ('sarscov2', 584),\n",
       " ('infectious disease', 520),\n",
       " ('viral infection', 491),\n",
       " ('diarrhea', 440),\n",
       " ('pneumonia', 432),\n",
       " ('death', 396),\n",
       " ('viral infections', 394),\n",
       " ('mers', 295),\n",
       " ('cancer', 275)]"
      ]
     },
     "execution_count": 29,
     "metadata": {},
     "output_type": "execute_result"
    }
   ],
   "source": [
    "disease_flat_list = [item.lower() for sublist in df['disease_on_abstract'] for item in sublist]\n",
    "\n",
    "c = Counter(disease_flat_list)\n",
    "c.most_common(15)"
   ]
  },
  {
   "cell_type": "code",
   "execution_count": 30,
   "metadata": {},
   "outputs": [
    {
     "data": {
      "image/png": "[encoded data removed]",
      "text/plain": [
       "<Figure size 432x288 with 1 Axes>"
      ]
     },
     "metadata": {},
     "output_type": "display_data"
    }
   ],
   "source": [
    "wordcloud = WordCloud(prefer_horizontal=1.0,\n",
    "                      width=600,\n",
    "                      height=300,\n",
    "                      max_font_size=100,\n",
    "                      max_words=25,\n",
    "                      colormap=\"copper\",\n",
    "                      background_color='white').generate_from_frequencies(c)\n",
    "plt.figure()\n",
    "plt.imshow(wordcloud, interpolation='bilinear')\n",
    "plt.axis(\"off\")\n",
    "plt.show()\n",
    "plt.close()"
   ]
  },
  {
   "cell_type": "code",
   "execution_count": null,
   "metadata": {},
   "outputs": [],
   "source": []
  }
 ],
 "metadata": {
  "kernelspec": {
   "display_name": "Zencity_env",
   "language": "python",
   "name": "zencity_env"
  },
  "language_info": {
   "codemirror_mode": {
    "name": "ipython",
    "version": 3
   },
   "file_extension": ".py",
   "mimetype": "text/x-python",
   "name": "python",
   "nbconvert_exporter": "python",
   "pygments_lexer": "ipython3",
   "version": "3.6.7"
  }
 },
 "nbformat": 4,
 "nbformat_minor": 4
}
